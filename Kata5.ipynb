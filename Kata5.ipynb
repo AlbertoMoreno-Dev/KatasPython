{
 "cells": [
  {
   "cell_type": "markdown",
   "metadata": {},
   "source": [
    "Ejercicio 1"
   ]
  },
  {
   "cell_type": "code",
   "execution_count": 29,
   "metadata": {},
   "outputs": [
    {
     "name": "stdout",
     "output_type": "stream",
     "text": [
      "628949330\n",
      "390577533.93\n"
     ]
    }
   ],
   "source": [
    "Earth = 149597870\n",
    "Jupiter = 778547200\n",
    "\n",
    "km_totales = Jupiter - Earth\n",
    "km_to_miles = km_totales * 0.621\n",
    "\n",
    "print (km_totales)\n",
    "print (km_to_miles)"
   ]
  },
  {
   "cell_type": "markdown",
   "metadata": {},
   "source": [
    "Ejercico 2"
   ]
  },
  {
   "cell_type": "code",
   "execution_count": 32,
   "metadata": {},
   "outputs": [
    {
     "name": "stdout",
     "output_type": "stream",
     "text": [
      "111\n",
      "68.931\n"
     ]
    }
   ],
   "source": [
    "Planet_1 = input ('Ingresa la distancia del Primer planeta en KM')\n",
    "Planet_2 = input ('Ingresa la distancia del Segundo planeta en KM')\n",
    "\n",
    "Planet_1 = int(Planet_1)\n",
    "Planet_2 = int (Planet_2)\n",
    "\n",
    "# Realizar el cálculo y determinar el valor absoluto\n",
    "total_distance = Planet_1 - Planet_2\n",
    "total_distance = abs(total_distance)\n",
    "# Convertir de KM a Millas\n",
    "conversion = total_distance * 0.621\n",
    "\n",
    "print (total_distance)\n",
    "print (conversion)"
   ]
  }
 ],
 "metadata": {
  "interpreter": {
   "hash": "6f7c4d44365b28014734406e4d617c1e1f76ea196def854c7b951a230f6e24f1"
  },
  "kernelspec": {
   "display_name": "Python 3.9.7 64-bit",
   "language": "python",
   "name": "python3"
  },
  "language_info": {
   "codemirror_mode": {
    "name": "ipython",
    "version": 3
   },
   "file_extension": ".py",
   "mimetype": "text/x-python",
   "name": "python",
   "nbconvert_exporter": "python",
   "pygments_lexer": "ipython3",
   "version": "3.9.7"
  },
  "orig_nbformat": 4
 },
 "nbformat": 4,
 "nbformat_minor": 2
}
