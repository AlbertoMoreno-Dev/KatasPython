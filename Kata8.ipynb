{
 "cells": [
  {
   "cell_type": "markdown",
   "metadata": {},
   "source": [
    "Kata 8"
   ]
  },
  {
   "cell_type": "markdown",
   "metadata": {},
   "source": [
    "Ejercico 1"
   ]
  },
  {
   "cell_type": "code",
   "execution_count": 17,
   "metadata": {},
   "outputs": [
    {
     "name": "stdout",
     "output_type": "stream",
     "text": [
      "Planet: Mars \n",
      "Moons: 2\n"
     ]
    }
   ],
   "source": [
    "# Crea un diccionario llamado planet con los datos propuestos\n",
    "\n",
    "planet = {\n",
    "    'name' : 'Mars',\n",
    "    'moons' : 2\n",
    "}\n",
    "# Muestra el nombre del planeta y el número de lunas que tiene.\n",
    "\n",
    "print(f'Planet: {planet[\"name\"]} \\nMoons: {planet[\"moons\"]}')"
   ]
  },
  {
   "cell_type": "code",
   "execution_count": 18,
   "metadata": {},
   "outputs": [
    {
     "name": "stdout",
     "output_type": "stream",
     "text": [
      "Planet: Mars \n",
      "Polar Cir: 6752\n"
     ]
    }
   ],
   "source": [
    "planet['circum'] = {\n",
    "'polar': 6752 ,\n",
    "'equatorial' : 6792\n",
    "} \n",
    "\n",
    "print(f'Planet: {planet[\"name\"]} \\nPolar Cir: {planet[\"circum\"][\"polar\"]}')"
   ]
  },
  {
   "cell_type": "markdown",
   "metadata": {},
   "source": [
    "Ejercicio 2"
   ]
  },
  {
   "cell_type": "code",
   "execution_count": 23,
   "metadata": {},
   "outputs": [
    {
     "ename": "AttributeError",
     "evalue": "'list' object has no attribute 'values'",
     "output_type": "error",
     "traceback": [
      "\u001b[1;31m---------------------------------------------------------------------------\u001b[0m",
      "\u001b[1;31mAttributeError\u001b[0m                            Traceback (most recent call last)",
      "\u001b[1;32mc:\\Users\\Z0138503\\OneDrive - ZF Friedrichshafen AG\\Documents\\Microsoft Tutorial\\CursoIntroPython-main\\Katas\\Kata8.ipynb Cell 6'\u001b[0m in \u001b[0;36m<module>\u001b[1;34m\u001b[0m\n\u001b[0;32m      <a href='vscode-notebook-cell:/c%3A/Users/Z0138503/OneDrive%20-%20ZF%20Friedrichshafen%20AG/Documents/Microsoft%20Tutorial/CursoIntroPython-main/Katas/Kata8.ipynb#ch0000005?line=2'>3</a>\u001b[0m planet_moons\u001b[39m=\u001b[39m []\n\u001b[0;32m      <a href='vscode-notebook-cell:/c%3A/Users/Z0138503/OneDrive%20-%20ZF%20Friedrichshafen%20AG/Documents/Microsoft%20Tutorial/CursoIntroPython-main/Katas/Kata8.ipynb#ch0000005?line=3'>4</a>\u001b[0m \u001b[39m# Obtenemos la lista de las lunas\u001b[39;00m\n\u001b[0;32m      <a href='vscode-notebook-cell:/c%3A/Users/Z0138503/OneDrive%20-%20ZF%20Friedrichshafen%20AG/Documents/Microsoft%20Tutorial/CursoIntroPython-main/Katas/Kata8.ipynb#ch0000005?line=4'>5</a>\u001b[0m \u001b[39m# Almacenamos los resultados en una variable moons\u001b[39;00m\n\u001b[1;32m----> <a href='vscode-notebook-cell:/c%3A/Users/Z0138503/OneDrive%20-%20ZF%20Friedrichshafen%20AG/Documents/Microsoft%20Tutorial/CursoIntroPython-main/Katas/Kata8.ipynb#ch0000005?line=5'>6</a>\u001b[0m moons \u001b[39m=\u001b[39m planet_moons\u001b[39m.\u001b[39;49mvalues()\n\u001b[0;32m      <a href='vscode-notebook-cell:/c%3A/Users/Z0138503/OneDrive%20-%20ZF%20Friedrichshafen%20AG/Documents/Microsoft%20Tutorial/CursoIntroPython-main/Katas/Kata8.ipynb#ch0000005?line=6'>7</a>\u001b[0m \u001b[39m# Obtenemos el total de planetas\u001b[39;00m\n\u001b[0;32m      <a href='vscode-notebook-cell:/c%3A/Users/Z0138503/OneDrive%20-%20ZF%20Friedrichshafen%20AG/Documents/Microsoft%20Tutorial/CursoIntroPython-main/Katas/Kata8.ipynb#ch0000005?line=7'>8</a>\u001b[0m \u001b[39m# Almacenamos los resultados en una variable llamada years\u001b[39;00m\n\u001b[0;32m      <a href='vscode-notebook-cell:/c%3A/Users/Z0138503/OneDrive%20-%20ZF%20Friedrichshafen%20AG/Documents/Microsoft%20Tutorial/CursoIntroPython-main/Katas/Kata8.ipynb#ch0000005?line=8'>9</a>\u001b[0m planets \u001b[39m=\u001b[39m \u001b[39mlen\u001b[39m(planet_moons\u001b[39m.\u001b[39mkeys())\n",
      "\u001b[1;31mAttributeError\u001b[0m: 'list' object has no attribute 'values'"
     ]
    }
   ],
   "source": [
    "\n",
    "moon = ''\n",
    "planet_moons= []\n",
    "\n",
    "moons = planet_moons.values()\n",
    "\n",
    "planets = len(planet_moons.keys())\n",
    "\n",
    "total_moons = 0\n",
    "for moon in moons:\n",
    "    total_moons = total_moons + moon\n",
    "\n",
    "average = total_moons / planets\n",
    "\n",
    "\n",
    "print(average)"
   ]
  }
 ],
 "metadata": {
  "interpreter": {
   "hash": "6f7c4d44365b28014734406e4d617c1e1f76ea196def854c7b951a230f6e24f1"
  },
  "kernelspec": {
   "display_name": "Python 3.9.7 64-bit",
   "language": "python",
   "name": "python3"
  },
  "language_info": {
   "codemirror_mode": {
    "name": "ipython",
    "version": 3
   },
   "file_extension": ".py",
   "mimetype": "text/x-python",
   "name": "python",
   "nbconvert_exporter": "python",
   "pygments_lexer": "ipython3",
   "version": "3.9.7"
  },
  "orig_nbformat": 4
 },
 "nbformat": 4,
 "nbformat_minor": 2
}
